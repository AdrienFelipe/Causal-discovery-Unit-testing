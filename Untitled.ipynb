{
 "cells": [
  {
   "cell_type": "code",
   "execution_count": 2,
   "metadata": {},
   "outputs": [],
   "source": [
    "import pandas as pd\n",
    "import numpy as np\n",
    "import matplotlib.pyplot as plt\n",
    "import random\n",
    "import sys\n",
    "from typing import Callable\n",
    "\n",
    "%load_ext autoreload\n",
    "%autoreload 2\n",
    "\n",
    "sys.path.append('src')\n",
    "from Generator import Generator\n",
    "from History import History"
   ]
  },
  {
   "cell_type": "markdown",
   "metadata": {},
   "source": [
    "Sample complexity\n",
    "Complejidad muestral"
   ]
  },
  {
   "cell_type": "markdown",
   "metadata": {},
   "source": [
    "## No time, no order"
   ]
  },
  {
   "cell_type": "markdown",
   "metadata": {},
   "source": [
    "### Instant action\n",
    "Observaciones independientes binarias/categorícas (determinista)\n",
    "dedes baesians\n",
    "https://github.com/pgmpy/pgmpy"
   ]
  },
  {
   "cell_type": "code",
   "execution_count": 3,
   "metadata": {},
   "outputs": [
    {
     "data": {
      "text/html": [
       "<div>\n",
       "<style scoped>\n",
       "    .dataframe tbody tr th:only-of-type {\n",
       "        vertical-align: middle;\n",
       "    }\n",
       "\n",
       "    .dataframe tbody tr th {\n",
       "        vertical-align: top;\n",
       "    }\n",
       "\n",
       "    .dataframe thead th {\n",
       "        text-align: right;\n",
       "    }\n",
       "</style>\n",
       "<table border=\"1\" class=\"dataframe\">\n",
       "  <thead>\n",
       "    <tr style=\"text-align: right;\">\n",
       "      <th></th>\n",
       "      <th>C</th>\n",
       "      <th>E</th>\n",
       "      <th>N</th>\n",
       "    </tr>\n",
       "  </thead>\n",
       "  <tbody>\n",
       "    <tr>\n",
       "      <td>0</td>\n",
       "      <td>1</td>\n",
       "      <td>1</td>\n",
       "      <td>0</td>\n",
       "    </tr>\n",
       "    <tr>\n",
       "      <td>1</td>\n",
       "      <td>0</td>\n",
       "      <td>0</td>\n",
       "      <td>1</td>\n",
       "    </tr>\n",
       "    <tr>\n",
       "      <td>2</td>\n",
       "      <td>0</td>\n",
       "      <td>0</td>\n",
       "      <td>0</td>\n",
       "    </tr>\n",
       "  </tbody>\n",
       "</table>\n",
       "</div>"
      ],
      "text/plain": [
       "   C  E  N\n",
       "0  1  1  0\n",
       "1  0  0  1\n",
       "2  0  0  0"
      ]
     },
     "metadata": {},
     "output_type": "display_data"
    }
   ],
   "source": [
    "random.seed(1)\n",
    "\n",
    "effect_function: Callable[[History], float] = lambda history: \\\n",
    "    1 if history.get_cause() == 1 else 0\n",
    "\n",
    "dataset = Generator() \\\n",
    "    .add_effect(effect_function) \\\n",
    "    .add_noise_discrete() \\\n",
    "    .add_cause_discrete()\n",
    "\n",
    "display(dataset.generate().astype(int))"
   ]
  },
  {
   "cell_type": "markdown",
   "metadata": {},
   "source": [
    "### Random samples\n",
    "Observaciones indepnedientes de variables continuas\n",
    "Exchangeable\n",
    "\n",
    "ruido gausiano\n",
    "https://en.wikipedia.org/wiki/Structural_equation_modeling"
   ]
  },
  {
   "cell_type": "code",
   "execution_count": 4,
   "metadata": {},
   "outputs": [
    {
     "data": {
      "text/html": [
       "<div>\n",
       "<style scoped>\n",
       "    .dataframe tbody tr th:only-of-type {\n",
       "        vertical-align: middle;\n",
       "    }\n",
       "\n",
       "    .dataframe tbody tr th {\n",
       "        vertical-align: top;\n",
       "    }\n",
       "\n",
       "    .dataframe thead th {\n",
       "        text-align: right;\n",
       "    }\n",
       "</style>\n",
       "<table border=\"1\" class=\"dataframe\">\n",
       "  <thead>\n",
       "    <tr style=\"text-align: right;\">\n",
       "      <th></th>\n",
       "      <th>C</th>\n",
       "      <th>E</th>\n",
       "      <th>N</th>\n",
       "    </tr>\n",
       "  </thead>\n",
       "  <tbody>\n",
       "    <tr>\n",
       "      <td>0</td>\n",
       "      <td>4</td>\n",
       "      <td>8</td>\n",
       "      <td>5</td>\n",
       "    </tr>\n",
       "    <tr>\n",
       "      <td>1</td>\n",
       "      <td>2</td>\n",
       "      <td>4</td>\n",
       "      <td>5</td>\n",
       "    </tr>\n",
       "    <tr>\n",
       "      <td>2</td>\n",
       "      <td>8</td>\n",
       "      <td>16</td>\n",
       "      <td>8</td>\n",
       "    </tr>\n",
       "  </tbody>\n",
       "</table>\n",
       "</div>"
      ],
      "text/plain": [
       "   C   E  N\n",
       "0  4   8  5\n",
       "1  2   4  5\n",
       "2  8  16  8"
      ]
     },
     "metadata": {},
     "output_type": "display_data"
    }
   ],
   "source": [
    "random.seed(10)\n",
    "\n",
    "effect_function: Callable[[History], float] = lambda history: \\\n",
    "    2 * history.get_cause()\n",
    "\n",
    "dataset = Generator() \\\n",
    "    .add_effect(effect_function) \\\n",
    "    .add_noise_continuous() \\\n",
    "    .add_cause_continuous()\n",
    "\n",
    "display(dataset.generate().astype(int))"
   ]
  },
  {
   "cell_type": "markdown",
   "metadata": {},
   "source": [
    "## With order, no time"
   ]
  },
  {
   "cell_type": "markdown",
   "metadata": {},
   "source": [
    "### Logs like"
   ]
  },
  {
   "cell_type": "code",
   "execution_count": 5,
   "metadata": {},
   "outputs": [
    {
     "data": {
      "text/html": [
       "<div>\n",
       "<style scoped>\n",
       "    .dataframe tbody tr th:only-of-type {\n",
       "        vertical-align: middle;\n",
       "    }\n",
       "\n",
       "    .dataframe tbody tr th {\n",
       "        vertical-align: top;\n",
       "    }\n",
       "\n",
       "    .dataframe thead th {\n",
       "        text-align: right;\n",
       "    }\n",
       "</style>\n",
       "<table border=\"1\" class=\"dataframe\">\n",
       "  <thead>\n",
       "    <tr style=\"text-align: right;\">\n",
       "      <th></th>\n",
       "      <th>C</th>\n",
       "      <th>E</th>\n",
       "      <th>N</th>\n",
       "    </tr>\n",
       "  </thead>\n",
       "  <tbody>\n",
       "    <tr>\n",
       "      <td>0</td>\n",
       "      <td>0</td>\n",
       "      <td>0</td>\n",
       "      <td>1</td>\n",
       "    </tr>\n",
       "    <tr>\n",
       "      <td>1</td>\n",
       "      <td>1</td>\n",
       "      <td>0</td>\n",
       "      <td>0</td>\n",
       "    </tr>\n",
       "    <tr>\n",
       "      <td>2</td>\n",
       "      <td>0</td>\n",
       "      <td>1</td>\n",
       "      <td>0</td>\n",
       "    </tr>\n",
       "  </tbody>\n",
       "</table>\n",
       "</div>"
      ],
      "text/plain": [
       "   C  E  N\n",
       "0  0  0  1\n",
       "1  1  0  0\n",
       "2  0  1  0"
      ]
     },
     "metadata": {},
     "output_type": "display_data"
    }
   ],
   "source": [
    "random.seed(14)\n",
    "\n",
    "effect_function: Callable[[History], float] = lambda history: \\\n",
    "    1 if history.get_cause(delay=1) == 1 else None\n",
    "\n",
    "dataset = Generator(ordered=True) \\\n",
    "    .add_effect(effect_function) \\\n",
    "    .add_noise_discrete() \\\n",
    "    .add_cause_discrete()\n",
    "\n",
    "display(dataset.generate().astype(int))"
   ]
  },
  {
   "cell_type": "markdown",
   "metadata": {},
   "source": [
    "### Sensors reads\n",
    "Lectura secuencial de sensores"
   ]
  },
  {
   "cell_type": "code",
   "execution_count": 6,
   "metadata": {},
   "outputs": [
    {
     "data": {
      "text/html": [
       "<div>\n",
       "<style scoped>\n",
       "    .dataframe tbody tr th:only-of-type {\n",
       "        vertical-align: middle;\n",
       "    }\n",
       "\n",
       "    .dataframe tbody tr th {\n",
       "        vertical-align: top;\n",
       "    }\n",
       "\n",
       "    .dataframe thead th {\n",
       "        text-align: right;\n",
       "    }\n",
       "</style>\n",
       "<table border=\"1\" class=\"dataframe\">\n",
       "  <thead>\n",
       "    <tr style=\"text-align: right;\">\n",
       "      <th></th>\n",
       "      <th>C</th>\n",
       "      <th>E</th>\n",
       "      <th>N</th>\n",
       "    </tr>\n",
       "  </thead>\n",
       "  <tbody>\n",
       "    <tr>\n",
       "      <td>0</td>\n",
       "      <td>0</td>\n",
       "      <td>0</td>\n",
       "      <td>7</td>\n",
       "    </tr>\n",
       "    <tr>\n",
       "      <td>1</td>\n",
       "      <td>9</td>\n",
       "      <td>0</td>\n",
       "      <td>0</td>\n",
       "    </tr>\n",
       "    <tr>\n",
       "      <td>2</td>\n",
       "      <td>0</td>\n",
       "      <td>21</td>\n",
       "      <td>0</td>\n",
       "    </tr>\n",
       "  </tbody>\n",
       "</table>\n",
       "</div>"
      ],
      "text/plain": [
       "   C   E  N\n",
       "0  0   0  7\n",
       "1  9   0  0\n",
       "2  0  21  0"
      ]
     },
     "metadata": {},
     "output_type": "display_data"
    }
   ],
   "source": [
    "random.seed(14)\n",
    "\n",
    "effect_function: Callable[[History], float] = lambda history: \\\n",
    "    2 * history.get_cause(delay=1) + 3\n",
    "\n",
    "dataset = Generator(ordered=True) \\\n",
    "    .add_effect(effect_function) \\\n",
    "    .add_noise_continuous() \\\n",
    "    .add_cause_continuous()\n",
    "\n",
    "display(dataset.generate().astype(int))"
   ]
  },
  {
   "cell_type": "markdown",
   "metadata": {},
   "source": [
    "## With time\n",
    "### Pattern search\n",
    "uniform sample\n",
    "muestreos con tiempos uniformes\n",
    "\n",
    "tidybench (causali discovery from time series)\n",
    "tigramite (causal discovery from time series)"
   ]
  },
  {
   "cell_type": "code",
   "execution_count": 7,
   "metadata": {},
   "outputs": [
    {
     "data": {
      "text/html": [
       "<div>\n",
       "<style scoped>\n",
       "    .dataframe tbody tr th:only-of-type {\n",
       "        vertical-align: middle;\n",
       "    }\n",
       "\n",
       "    .dataframe tbody tr th {\n",
       "        vertical-align: top;\n",
       "    }\n",
       "\n",
       "    .dataframe thead th {\n",
       "        text-align: right;\n",
       "    }\n",
       "</style>\n",
       "<table border=\"1\" class=\"dataframe\">\n",
       "  <thead>\n",
       "    <tr style=\"text-align: right;\">\n",
       "      <th></th>\n",
       "      <th>E</th>\n",
       "      <th>T</th>\n",
       "    </tr>\n",
       "  </thead>\n",
       "  <tbody>\n",
       "    <tr>\n",
       "      <td>0</td>\n",
       "      <td>-1</td>\n",
       "      <td>1526235300</td>\n",
       "    </tr>\n",
       "    <tr>\n",
       "      <td>1</td>\n",
       "      <td>0</td>\n",
       "      <td>1526235600</td>\n",
       "    </tr>\n",
       "    <tr>\n",
       "      <td>2</td>\n",
       "      <td>1</td>\n",
       "      <td>1526235900</td>\n",
       "    </tr>\n",
       "    <tr>\n",
       "      <td>3</td>\n",
       "      <td>0</td>\n",
       "      <td>1526236200</td>\n",
       "    </tr>\n",
       "    <tr>\n",
       "      <td>4</td>\n",
       "      <td>-1</td>\n",
       "      <td>1526236500</td>\n",
       "    </tr>\n",
       "    <tr>\n",
       "      <td>5</td>\n",
       "      <td>0</td>\n",
       "      <td>1526236800</td>\n",
       "    </tr>\n",
       "  </tbody>\n",
       "</table>\n",
       "</div>"
      ],
      "text/plain": [
       "   E           T\n",
       "0 -1  1526235300\n",
       "1  0  1526235600\n",
       "2  1  1526235900\n",
       "3  0  1526236200\n",
       "4 -1  1526236500\n",
       "5  0  1526236800"
      ]
     },
     "metadata": {},
     "output_type": "display_data"
    }
   ],
   "source": [
    "effect_function: Callable[[History], float] = lambda history: \\\n",
    "    np.sin(history.get_timestamp() / 60 / 5 * np.pi / 2)\n",
    "\n",
    "dataset = Generator() \\\n",
    "    .add_effect(effect_function) \\\n",
    "    .set_time('2018-05-13 20:15', step='5m')\n",
    "\n",
    "display(dataset.generate(6).astype(int))"
   ]
  },
  {
   "cell_type": "markdown",
   "metadata": {},
   "source": [
    "#### Date noise"
   ]
  },
  {
   "cell_type": "code",
   "execution_count": 8,
   "metadata": {},
   "outputs": [
    {
     "data": {
      "text/html": [
       "<div>\n",
       "<style scoped>\n",
       "    .dataframe tbody tr th:only-of-type {\n",
       "        vertical-align: middle;\n",
       "    }\n",
       "\n",
       "    .dataframe tbody tr th {\n",
       "        vertical-align: top;\n",
       "    }\n",
       "\n",
       "    .dataframe thead th {\n",
       "        text-align: right;\n",
       "    }\n",
       "</style>\n",
       "<table border=\"1\" class=\"dataframe\">\n",
       "  <thead>\n",
       "    <tr style=\"text-align: right;\">\n",
       "      <th></th>\n",
       "      <th>E</th>\n",
       "      <th>T</th>\n",
       "    </tr>\n",
       "  </thead>\n",
       "  <tbody>\n",
       "    <tr>\n",
       "      <td>0</td>\n",
       "      <td>0.2</td>\n",
       "      <td>1.287597e+09</td>\n",
       "    </tr>\n",
       "    <tr>\n",
       "      <td>1</td>\n",
       "      <td>-1.0</td>\n",
       "      <td>1.287602e+09</td>\n",
       "    </tr>\n",
       "    <tr>\n",
       "      <td>2</td>\n",
       "      <td>0.1</td>\n",
       "      <td>1.287605e+09</td>\n",
       "    </tr>\n",
       "    <tr>\n",
       "      <td>3</td>\n",
       "      <td>1.0</td>\n",
       "      <td>1.287608e+09</td>\n",
       "    </tr>\n",
       "    <tr>\n",
       "      <td>4</td>\n",
       "      <td>0.0</td>\n",
       "      <td>1.287612e+09</td>\n",
       "    </tr>\n",
       "    <tr>\n",
       "      <td>5</td>\n",
       "      <td>-1.0</td>\n",
       "      <td>1.287616e+09</td>\n",
       "    </tr>\n",
       "  </tbody>\n",
       "</table>\n",
       "</div>"
      ],
      "text/plain": [
       "     E             T\n",
       "0  0.2  1.287597e+09\n",
       "1 -1.0  1.287602e+09\n",
       "2  0.1  1.287605e+09\n",
       "3  1.0  1.287608e+09\n",
       "4  0.0  1.287612e+09\n",
       "5 -1.0  1.287616e+09"
      ]
     },
     "metadata": {},
     "output_type": "display_data"
    }
   ],
   "source": [
    "random.seed(1)\n",
    "\n",
    "effect_function: Callable[[History], float] = lambda history: \\\n",
    "    np.sin(history.get_timestamp() / 60 / 60 * np.pi / 2)\n",
    "\n",
    "dataset = Generator() \\\n",
    "    .add_effect(effect_function) \\\n",
    "    .set_time('2010-10-20 20:00', step='1h', precision='10m')\n",
    "\n",
    "display(dataset.generate(6).round(1))"
   ]
  },
  {
   "cell_type": "markdown",
   "metadata": {},
   "source": [
    "## With delay"
   ]
  },
  {
   "cell_type": "code",
   "execution_count": 9,
   "metadata": {},
   "outputs": [
    {
     "data": {
      "text/html": [
       "<div>\n",
       "<style scoped>\n",
       "    .dataframe tbody tr th:only-of-type {\n",
       "        vertical-align: middle;\n",
       "    }\n",
       "\n",
       "    .dataframe tbody tr th {\n",
       "        vertical-align: top;\n",
       "    }\n",
       "\n",
       "    .dataframe thead th {\n",
       "        text-align: right;\n",
       "    }\n",
       "</style>\n",
       "<table border=\"1\" class=\"dataframe\">\n",
       "  <thead>\n",
       "    <tr style=\"text-align: right;\">\n",
       "      <th></th>\n",
       "      <th>C</th>\n",
       "      <th>E</th>\n",
       "    </tr>\n",
       "  </thead>\n",
       "  <tbody>\n",
       "    <tr>\n",
       "      <td>0</td>\n",
       "      <td>2.0</td>\n",
       "      <td>0.0</td>\n",
       "    </tr>\n",
       "    <tr>\n",
       "      <td>1</td>\n",
       "      <td>2.0</td>\n",
       "      <td>0.0</td>\n",
       "    </tr>\n",
       "    <tr>\n",
       "      <td>2</td>\n",
       "      <td>3.0</td>\n",
       "      <td>4.0</td>\n",
       "    </tr>\n",
       "    <tr>\n",
       "      <td>3</td>\n",
       "      <td>3.0</td>\n",
       "      <td>5.0</td>\n",
       "    </tr>\n",
       "    <tr>\n",
       "      <td>4</td>\n",
       "      <td>2.0</td>\n",
       "      <td>5.0</td>\n",
       "    </tr>\n",
       "    <tr>\n",
       "      <td>5</td>\n",
       "      <td>3.0</td>\n",
       "      <td>6.0</td>\n",
       "    </tr>\n",
       "  </tbody>\n",
       "</table>\n",
       "</div>"
      ],
      "text/plain": [
       "     C    E\n",
       "0  2.0  0.0\n",
       "1  2.0  0.0\n",
       "2  3.0  4.0\n",
       "3  3.0  5.0\n",
       "4  2.0  5.0\n",
       "5  3.0  6.0"
      ]
     },
     "metadata": {},
     "output_type": "display_data"
    }
   ],
   "source": [
    "random.seed(5)\n",
    "\n",
    "effect_function: Callable[[History], float] = lambda history: \\\n",
    "    2 * history.get_cause(delay=2, null_value=0)\n",
    "\n",
    "dataset = Generator() \\\n",
    "    .add_effect(effect_function) \\\n",
    "    .add_cause_continuous(1, 3)\n",
    "\n",
    "display(dataset.generate(6).round(0))"
   ]
  },
  {
   "cell_type": "markdown",
   "metadata": {},
   "source": [
    "## Multiple causes"
   ]
  },
  {
   "cell_type": "code",
   "execution_count": 10,
   "metadata": {},
   "outputs": [
    {
     "data": {
      "text/html": [
       "<div>\n",
       "<style scoped>\n",
       "    .dataframe tbody tr th:only-of-type {\n",
       "        vertical-align: middle;\n",
       "    }\n",
       "\n",
       "    .dataframe tbody tr th {\n",
       "        vertical-align: top;\n",
       "    }\n",
       "\n",
       "    .dataframe thead th {\n",
       "        text-align: right;\n",
       "    }\n",
       "</style>\n",
       "<table border=\"1\" class=\"dataframe\">\n",
       "  <thead>\n",
       "    <tr style=\"text-align: right;\">\n",
       "      <th></th>\n",
       "      <th>C1</th>\n",
       "      <th>C2</th>\n",
       "      <th>E</th>\n",
       "    </tr>\n",
       "  </thead>\n",
       "  <tbody>\n",
       "    <tr>\n",
       "      <td>0</td>\n",
       "      <td>5</td>\n",
       "      <td>4</td>\n",
       "      <td>10</td>\n",
       "    </tr>\n",
       "    <tr>\n",
       "      <td>1</td>\n",
       "      <td>5</td>\n",
       "      <td>2</td>\n",
       "      <td>7</td>\n",
       "    </tr>\n",
       "    <tr>\n",
       "      <td>2</td>\n",
       "      <td>8</td>\n",
       "      <td>8</td>\n",
       "      <td>16</td>\n",
       "    </tr>\n",
       "  </tbody>\n",
       "</table>\n",
       "</div>"
      ],
      "text/plain": [
       "   C1  C2   E\n",
       "0   5   4  10\n",
       "1   5   2   7\n",
       "2   8   8  16"
      ]
     },
     "metadata": {},
     "output_type": "display_data"
    }
   ],
   "source": [
    "random.seed(10)\n",
    "\n",
    "effect_function: Callable[[History], float] = lambda history: \\\n",
    "    history.get_cause(1) + history.get_cause(2)\n",
    "\n",
    "dataset = Generator() \\\n",
    "    .add_effect(effect_function) \\\n",
    "    .add_cause_continuous() \\\n",
    "    .add_cause_continuous()\n",
    "\n",
    "display(dataset.generate().astype(int))"
   ]
  },
  {
   "cell_type": "markdown",
   "metadata": {},
   "source": [
    "tipo de ruido\n",
    "gausiano / exponencial / no gausiano"
   ]
  },
  {
   "cell_type": "markdown",
   "metadata": {},
   "source": [
    "## Shadow causes"
   ]
  },
  {
   "cell_type": "code",
   "execution_count": 11,
   "metadata": {},
   "outputs": [
    {
     "data": {
      "text/html": [
       "<div>\n",
       "<style scoped>\n",
       "    .dataframe tbody tr th:only-of-type {\n",
       "        vertical-align: middle;\n",
       "    }\n",
       "\n",
       "    .dataframe tbody tr th {\n",
       "        vertical-align: top;\n",
       "    }\n",
       "\n",
       "    .dataframe thead th {\n",
       "        text-align: right;\n",
       "    }\n",
       "</style>\n",
       "<table border=\"1\" class=\"dataframe\">\n",
       "  <thead>\n",
       "    <tr style=\"text-align: right;\">\n",
       "      <th></th>\n",
       "      <th>C2</th>\n",
       "      <th>E</th>\n",
       "    </tr>\n",
       "  </thead>\n",
       "  <tbody>\n",
       "    <tr>\n",
       "      <td>0</td>\n",
       "      <td>4</td>\n",
       "      <td>10</td>\n",
       "    </tr>\n",
       "    <tr>\n",
       "      <td>1</td>\n",
       "      <td>2</td>\n",
       "      <td>7</td>\n",
       "    </tr>\n",
       "    <tr>\n",
       "      <td>2</td>\n",
       "      <td>8</td>\n",
       "      <td>16</td>\n",
       "    </tr>\n",
       "  </tbody>\n",
       "</table>\n",
       "</div>"
      ],
      "text/plain": [
       "   C2   E\n",
       "0   4  10\n",
       "1   2   7\n",
       "2   8  16"
      ]
     },
     "metadata": {},
     "output_type": "display_data"
    }
   ],
   "source": [
    "random.seed(10)\n",
    "\n",
    "effect_function: Callable[[History], float] = lambda history: \\\n",
    "    history.get_cause(1) + history.get_cause(2)\n",
    "\n",
    "dataset = Generator() \\\n",
    "    .add_effect(effect_function) \\\n",
    "    .add_cause_continuous(shadow=True) \\\n",
    "    .add_cause_continuous()\n",
    "\n",
    "display(dataset.generate().astype(int))"
   ]
  },
  {
   "cell_type": "markdown",
   "metadata": {},
   "source": [
    "## Multiple effects"
   ]
  },
  {
   "cell_type": "code",
   "execution_count": 12,
   "metadata": {},
   "outputs": [
    {
     "data": {
      "text/html": [
       "<div>\n",
       "<style scoped>\n",
       "    .dataframe tbody tr th:only-of-type {\n",
       "        vertical-align: middle;\n",
       "    }\n",
       "\n",
       "    .dataframe tbody tr th {\n",
       "        vertical-align: top;\n",
       "    }\n",
       "\n",
       "    .dataframe thead th {\n",
       "        text-align: right;\n",
       "    }\n",
       "</style>\n",
       "<table border=\"1\" class=\"dataframe\">\n",
       "  <thead>\n",
       "    <tr style=\"text-align: right;\">\n",
       "      <th></th>\n",
       "      <th>C</th>\n",
       "      <th>E1</th>\n",
       "      <th>E2</th>\n",
       "    </tr>\n",
       "  </thead>\n",
       "  <tbody>\n",
       "    <tr>\n",
       "      <td>0</td>\n",
       "      <td>2</td>\n",
       "      <td>4</td>\n",
       "      <td>5</td>\n",
       "    </tr>\n",
       "    <tr>\n",
       "      <td>1</td>\n",
       "      <td>5</td>\n",
       "      <td>10</td>\n",
       "      <td>11</td>\n",
       "    </tr>\n",
       "    <tr>\n",
       "      <td>2</td>\n",
       "      <td>3</td>\n",
       "      <td>6</td>\n",
       "      <td>7</td>\n",
       "    </tr>\n",
       "  </tbody>\n",
       "</table>\n",
       "</div>"
      ],
      "text/plain": [
       "   C  E1  E2\n",
       "0  2   4   5\n",
       "1  5  10  11\n",
       "2  3   6   7"
      ]
     },
     "metadata": {},
     "output_type": "display_data"
    }
   ],
   "source": [
    "random.seed(3)\n",
    "\n",
    "dataset = Generator() \\\n",
    "    .add_cause_continuous() \\\n",
    "    .add_effect(lambda history: int(history.get_cause()) * 2) \\\n",
    "    .add_effect(lambda history: history.get_effect() + 1)\n",
    "\n",
    "display(dataset.generate().astype(int))"
   ]
  },
  {
   "cell_type": "markdown",
   "metadata": {},
   "source": [
    "# Sales history dataset"
   ]
  },
  {
   "cell_type": "code",
   "execution_count": 13,
   "metadata": {},
   "outputs": [],
   "source": [
    "def effect1(history: History) -> float:\n",
    "    day = history.get_datetime().weekday()\n",
    "    ratios = [20, 20, 15, 5, 0, -20, -30]\n",
    "    return history.get_cause(1) * (1 + ratios[day] / 100)"
   ]
  },
  {
   "cell_type": "code",
   "execution_count": 14,
   "metadata": {},
   "outputs": [
    {
     "data": {
      "text/plain": [
       "<matplotlib.axes._subplots.AxesSubplot at 0x7f61ff64e650>"
      ]
     },
     "execution_count": 14,
     "metadata": {},
     "output_type": "execute_result"
    },
    {
     "data": {
      "image/png": "[encoded data removed]",
      "text/plain": [
       "<Figure size 1188x144 with 1 Axes>"
      ]
     },
     "metadata": {
      "needs_background": "light"
     },
     "output_type": "display_data"
    }
   ],
   "source": [
    "Generator() \\\n",
    "    .set_time('2020-02-20', step='1d') \\\n",
    "    .add_cause_continuous(300, 300, shadow=True) \\\n",
    "    .add_effect(effect1) \\\n",
    "    .generate(50) \\\n",
    "    .plot(x='T', y='E', figsize=(16.5,2))"
   ]
  },
  {
   "cell_type": "code",
   "execution_count": 15,
   "metadata": {},
   "outputs": [
    {
     "data": {
      "text/plain": [
       "<matplotlib.axes._subplots.AxesSubplot at 0x7f61ff57e2d0>"
      ]
     },
     "execution_count": 15,
     "metadata": {},
     "output_type": "execute_result"
    },
    {
     "data": {
      "image/png": "[encoded data removed]",
      "text/plain": [
       "<Figure size 1188x144 with 1 Axes>"
      ]
     },
     "metadata": {
      "needs_background": "light"
     },
     "output_type": "display_data"
    }
   ],
   "source": [
    "Generator() \\\n",
    "    .set_time('2020-02-20', step='1d') \\\n",
    "    .add_cause_continuous(250, 300, shadow=True) \\\n",
    "    .add_effect(effect1) \\\n",
    "    .generate(50) \\\n",
    "    .plot(x='T', y='E', figsize=(16.5,2))"
   ]
  },
  {
   "cell_type": "code",
   "execution_count": 16,
   "metadata": {},
   "outputs": [],
   "source": [
    "def effect2(history: History) -> float:\n",
    "    week = history.get_datetime().isocalendar()[1]\n",
    "    ratio = week - history.get_datetime(-1).isocalendar()[1]\n",
    "    return history.get_effect(position=1) * (1 + ratio / 5)"
   ]
  },
  {
   "cell_type": "code",
   "execution_count": 17,
   "metadata": {},
   "outputs": [
    {
     "data": {
      "text/plain": [
       "<matplotlib.axes._subplots.AxesSubplot at 0x7f61ff498050>"
      ]
     },
     "execution_count": 17,
     "metadata": {},
     "output_type": "execute_result"
    },
    {
     "data": {
      "image/png": "[encoded data removed]",
      "text/plain": [
       "<Figure size 1188x144 with 1 Axes>"
      ]
     },
     "metadata": {
      "needs_background": "light"
     },
     "output_type": "display_data"
    }
   ],
   "source": [
    "Generator() \\\n",
    "    .set_time('2020-02-20', step='1d') \\\n",
    "    .add_cause_continuous(250, 300, shadow=True) \\\n",
    "    .add_effect(effect1) \\\n",
    "    .add_effect(effect2) \\\n",
    "    .generate(50) \\\n",
    "    .plot(x='T', y='E2', figsize=(16.5,2))"
   ]
  },
  {
   "cell_type": "code",
   "execution_count": 18,
   "metadata": {},
   "outputs": [],
   "source": [
    "def effect3(history: History) -> float:\n",
    "    value = history.get_effect(2)\n",
    "    if history.get_cause(2, delay=1):\n",
    "        value += 500\n",
    "    if history.get_cause(2, delay=2):\n",
    "        value += 400\n",
    "    if history.get_cause(2, delay=3):\n",
    "        value += 200\n",
    "\n",
    "    return value"
   ]
  },
  {
   "cell_type": "code",
   "execution_count": 19,
   "metadata": {},
   "outputs": [
    {
     "data": {
      "text/plain": [
       "<matplotlib.axes._subplots.AxesSubplot at 0x7f61ff4fed50>"
      ]
     },
     "execution_count": 19,
     "metadata": {},
     "output_type": "execute_result"
    },
    {
     "data": {
      "image/png": "[encoded data removed]",
      "text/plain": [
       "<Figure size 1188x144 with 1 Axes>"
      ]
     },
     "metadata": {
      "needs_background": "light"
     },
     "output_type": "display_data"
    }
   ],
   "source": [
    "random.seed(2)\n",
    "\n",
    "Generator() \\\n",
    "    .set_time('2020-02-20', step='1d') \\\n",
    "    .add_cause_continuous(250, 300) \\\n",
    "    .add_cause_discrete(0.05) \\\n",
    "    .add_effect(effect1) \\\n",
    "    .add_effect(effect2) \\\n",
    "    .add_effect(effect3) \\\n",
    "    .generate(50) \\\n",
    "    .plot(x='T', y='E3', figsize=(16.5,2))"
   ]
  },
  {
   "cell_type": "markdown",
   "metadata": {},
   "source": [
    "# Gene expression dataset"
   ]
  },
  {
   "cell_type": "code",
   "execution_count": 20,
   "metadata": {},
   "outputs": [],
   "source": [
    "def genes_effect(history: History) -> float:\n",
    "    gene1 = history.get_cause(1) > 0.6\n",
    "    gene2 = history.get_cause(2) > 0.6\n",
    "    gene3 = history.get_cause(3) > 0.8\n",
    "\n",
    "    return gene1 and gene2 or gene3"
   ]
  },
  {
   "cell_type": "code",
   "execution_count": 21,
   "metadata": {},
   "outputs": [
    {
     "data": {
      "text/plain": [
       "<matplotlib.axes._subplots.AxesSubplot at 0x7f61fe4aa750>"
      ]
     },
     "execution_count": 21,
     "metadata": {},
     "output_type": "execute_result"
    },
    {
     "data": {
      "image/png": "[encoded data removed]",
      "text/plain": [
       "<Figure size 432x288 with 2 Axes>"
      ]
     },
     "metadata": {
      "needs_background": "light"
     },
     "output_type": "display_data"
    }
   ],
   "source": [
    "import seaborn as sns\n",
    "\n",
    "dataset = Generator() \\\n",
    "    .add_noise_continuous(0, 1) \\\n",
    "    .add_noise_continuous(0, 1) \\\n",
    "    .add_noise_continuous(0, 1) \\\n",
    "    .add_noise_continuous(0, 1) \\\n",
    "    .add_cause_continuous(0, 1) \\\n",
    "    .add_cause_continuous(0, 1) \\\n",
    "    .add_cause_continuous(0, 1) \\\n",
    "    .add_effect(genes_effect) \\\n",
    "    .generate(50)\n",
    "\n",
    "\n",
    "cmap = sns.diverging_palette(20, 130, s=99, n=10, center=\"dark\")\n",
    "sns.heatmap(dataset, cmap=cmap)"
   ]
  },
  {
   "cell_type": "markdown",
   "metadata": {},
   "source": [
    "# Logs dataset"
   ]
  },
  {
   "cell_type": "code",
   "execution_count": 22,
   "metadata": {},
   "outputs": [
    {
     "data": {
      "text/plain": [
       "<matplotlib.axes._subplots.AxesSubplot at 0x7f61ff3da6d0>"
      ]
     },
     "execution_count": 22,
     "metadata": {},
     "output_type": "execute_result"
    },
    {
     "data": {
      "image/png": "[encoded data removed]",
      "text/plain": [
       "<Figure size 432x288 with 1 Axes>"
      ]
     },
     "metadata": {
      "needs_background": "light"
     },
     "output_type": "display_data"
    }
   ],
   "source": [
    "random.seed(9)\n",
    "dataset = Generator(ordered=True) \\\n",
    "    .set_time() \\\n",
    "    .add_cause_discrete(0.5) \\\n",
    "    .add_cause_discrete(0.5) \\\n",
    "    .generate(5)\n",
    "    \n",
    "scatter = dataset.set_index('T').stack().reset_index(name='value').rename(columns={'level_1':'type'})\n",
    "scatter[scatter['value'] > 0].plot.scatter(x='T', y='value', s=100)"
   ]
  },
  {
   "cell_type": "code",
   "execution_count": 23,
   "metadata": {},
   "outputs": [
    {
     "name": "stdout",
     "output_type": "stream",
     "text": [
      "  5           0 LOAD_FAST                0 (history)\n",
      "              2 LOAD_METHOD              0 (get_effect)\n",
      "              4 LOAD_CONST               1 (2)\n",
      "              6 CALL_METHOD              1\n",
      "              8 STORE_FAST               1 (value)\n",
      "\n",
      "  6          10 LOAD_FAST                0 (history)\n",
      "             12 LOAD_ATTR                1 (get_cause)\n",
      "             14 LOAD_CONST               1 (2)\n",
      "             16 LOAD_CONST               2 (1)\n",
      "             18 LOAD_CONST               3 (('delay',))\n",
      "             20 CALL_FUNCTION_KW         2\n",
      "             22 POP_JUMP_IF_FALSE       34\n",
      "\n",
      "  7          24 LOAD_FAST                1 (value)\n",
      "             26 LOAD_CONST               4 (1.5)\n",
      "             28 INPLACE_MULTIPLY\n",
      "             30 STORE_FAST               1 (value)\n",
      "             32 JUMP_FORWARD            46 (to 80)\n",
      "\n",
      "  8     >>   34 LOAD_FAST                0 (history)\n",
      "             36 LOAD_ATTR                1 (get_cause)\n",
      "             38 LOAD_CONST               1 (2)\n",
      "             40 LOAD_CONST               1 (2)\n",
      "             42 LOAD_CONST               3 (('delay',))\n",
      "             44 CALL_FUNCTION_KW         2\n",
      "             46 POP_JUMP_IF_FALSE       58\n",
      "\n",
      "  9          48 LOAD_FAST                1 (value)\n",
      "             50 LOAD_CONST               5 (3)\n",
      "             52 INPLACE_MULTIPLY\n",
      "             54 STORE_FAST               1 (value)\n",
      "             56 JUMP_FORWARD            22 (to 80)\n",
      "\n",
      " 10     >>   58 LOAD_FAST                0 (history)\n",
      "             60 LOAD_ATTR                1 (get_cause)\n",
      "             62 LOAD_CONST               1 (2)\n",
      "             64 LOAD_CONST               5 (3)\n",
      "             66 LOAD_CONST               3 (('delay',))\n",
      "             68 CALL_FUNCTION_KW         2\n",
      "             70 POP_JUMP_IF_FALSE       80\n",
      "\n",
      " 11          72 LOAD_FAST                1 (value)\n",
      "             74 LOAD_CONST               6 (1.2)\n",
      "             76 INPLACE_MULTIPLY\n",
      "             78 STORE_FAST               1 (value)\n",
      "\n",
      " 12     >>   80 LOAD_FAST                1 (value)\n",
      "             82 RETURN_VALUE\n",
      "None\n",
      "Instruction(opname='LOAD_FAST', opcode=124, arg=0, argval='history', argrepr='history', offset=0, starts_line=5, is_jump_target=False)\n",
      "Instruction(opname='LOAD_METHOD', opcode=160, arg=0, argval='get_effect', argrepr='get_effect', offset=2, starts_line=None, is_jump_target=False)\n",
      "Instruction(opname='LOAD_CONST', opcode=100, arg=1, argval=2, argrepr='2', offset=4, starts_line=None, is_jump_target=False)\n",
      "Instruction(opname='CALL_METHOD', opcode=161, arg=1, argval=1, argrepr='', offset=6, starts_line=None, is_jump_target=False)\n",
      "Instruction(opname='STORE_FAST', opcode=125, arg=1, argval='value', argrepr='value', offset=8, starts_line=None, is_jump_target=False)\n",
      "Instruction(opname='LOAD_FAST', opcode=124, arg=0, argval='history', argrepr='history', offset=10, starts_line=6, is_jump_target=False)\n",
      "Instruction(opname='LOAD_ATTR', opcode=106, arg=1, argval='get_cause', argrepr='get_cause', offset=12, starts_line=None, is_jump_target=False)\n",
      "Instruction(opname='LOAD_CONST', opcode=100, arg=1, argval=2, argrepr='2', offset=14, starts_line=None, is_jump_target=False)\n",
      "Instruction(opname='LOAD_CONST', opcode=100, arg=2, argval=1, argrepr='1', offset=16, starts_line=None, is_jump_target=False)\n",
      "Instruction(opname='LOAD_CONST', opcode=100, arg=3, argval=('delay',), argrepr=\"('delay',)\", offset=18, starts_line=None, is_jump_target=False)\n",
      "Instruction(opname='CALL_FUNCTION_KW', opcode=141, arg=2, argval=2, argrepr='', offset=20, starts_line=None, is_jump_target=False)\n",
      "Instruction(opname='POP_JUMP_IF_FALSE', opcode=114, arg=34, argval=34, argrepr='', offset=22, starts_line=None, is_jump_target=False)\n",
      "Instruction(opname='LOAD_FAST', opcode=124, arg=1, argval='value', argrepr='value', offset=24, starts_line=7, is_jump_target=False)\n",
      "Instruction(opname='LOAD_CONST', opcode=100, arg=4, argval=1.5, argrepr='1.5', offset=26, starts_line=None, is_jump_target=False)\n",
      "Instruction(opname='INPLACE_MULTIPLY', opcode=57, arg=None, argval=None, argrepr='', offset=28, starts_line=None, is_jump_target=False)\n",
      "Instruction(opname='STORE_FAST', opcode=125, arg=1, argval='value', argrepr='value', offset=30, starts_line=None, is_jump_target=False)\n",
      "Instruction(opname='JUMP_FORWARD', opcode=110, arg=46, argval=80, argrepr='to 80', offset=32, starts_line=None, is_jump_target=False)\n",
      "Instruction(opname='LOAD_FAST', opcode=124, arg=0, argval='history', argrepr='history', offset=34, starts_line=8, is_jump_target=True)\n",
      "Instruction(opname='LOAD_ATTR', opcode=106, arg=1, argval='get_cause', argrepr='get_cause', offset=36, starts_line=None, is_jump_target=False)\n",
      "Instruction(opname='LOAD_CONST', opcode=100, arg=1, argval=2, argrepr='2', offset=38, starts_line=None, is_jump_target=False)\n",
      "Instruction(opname='LOAD_CONST', opcode=100, arg=1, argval=2, argrepr='2', offset=40, starts_line=None, is_jump_target=False)\n",
      "Instruction(opname='LOAD_CONST', opcode=100, arg=3, argval=('delay',), argrepr=\"('delay',)\", offset=42, starts_line=None, is_jump_target=False)\n",
      "Instruction(opname='CALL_FUNCTION_KW', opcode=141, arg=2, argval=2, argrepr='', offset=44, starts_line=None, is_jump_target=False)\n",
      "Instruction(opname='POP_JUMP_IF_FALSE', opcode=114, arg=58, argval=58, argrepr='', offset=46, starts_line=None, is_jump_target=False)\n",
      "Instruction(opname='LOAD_FAST', opcode=124, arg=1, argval='value', argrepr='value', offset=48, starts_line=9, is_jump_target=False)\n",
      "Instruction(opname='LOAD_CONST', opcode=100, arg=5, argval=3, argrepr='3', offset=50, starts_line=None, is_jump_target=False)\n",
      "Instruction(opname='INPLACE_MULTIPLY', opcode=57, arg=None, argval=None, argrepr='', offset=52, starts_line=None, is_jump_target=False)\n",
      "Instruction(opname='STORE_FAST', opcode=125, arg=1, argval='value', argrepr='value', offset=54, starts_line=None, is_jump_target=False)\n",
      "Instruction(opname='JUMP_FORWARD', opcode=110, arg=22, argval=80, argrepr='to 80', offset=56, starts_line=None, is_jump_target=False)\n",
      "Instruction(opname='LOAD_FAST', opcode=124, arg=0, argval='history', argrepr='history', offset=58, starts_line=10, is_jump_target=True)\n",
      "Instruction(opname='LOAD_ATTR', opcode=106, arg=1, argval='get_cause', argrepr='get_cause', offset=60, starts_line=None, is_jump_target=False)\n",
      "Instruction(opname='LOAD_CONST', opcode=100, arg=1, argval=2, argrepr='2', offset=62, starts_line=None, is_jump_target=False)\n",
      "Instruction(opname='LOAD_CONST', opcode=100, arg=5, argval=3, argrepr='3', offset=64, starts_line=None, is_jump_target=False)\n",
      "Instruction(opname='LOAD_CONST', opcode=100, arg=3, argval=('delay',), argrepr=\"('delay',)\", offset=66, starts_line=None, is_jump_target=False)\n",
      "Instruction(opname='CALL_FUNCTION_KW', opcode=141, arg=2, argval=2, argrepr='', offset=68, starts_line=None, is_jump_target=False)\n",
      "Instruction(opname='POP_JUMP_IF_FALSE', opcode=114, arg=80, argval=80, argrepr='', offset=70, starts_line=None, is_jump_target=False)\n",
      "Instruction(opname='LOAD_FAST', opcode=124, arg=1, argval='value', argrepr='value', offset=72, starts_line=11, is_jump_target=False)\n",
      "Instruction(opname='LOAD_CONST', opcode=100, arg=6, argval=1.2, argrepr='1.2', offset=74, starts_line=None, is_jump_target=False)\n",
      "Instruction(opname='INPLACE_MULTIPLY', opcode=57, arg=None, argval=None, argrepr='', offset=76, starts_line=None, is_jump_target=False)\n",
      "Instruction(opname='STORE_FAST', opcode=125, arg=1, argval='value', argrepr='value', offset=78, starts_line=None, is_jump_target=False)\n",
      "Instruction(opname='LOAD_FAST', opcode=124, arg=1, argval='value', argrepr='value', offset=80, starts_line=12, is_jump_target=True)\n",
      "Instruction(opname='RETURN_VALUE', opcode=83, arg=None, argval=None, argrepr='', offset=82, starts_line=None, is_jump_target=False)\n"
     ]
    }
   ],
   "source": [
    "import dis\n",
    "\n",
    "\n",
    "def effect_function(history: History) -> float:\n",
    "    value = history.get_effect(2)\n",
    "    if history.get_cause(2, delay=1):\n",
    "        value *= 1.5\n",
    "    elif history.get_cause(2, delay=2):\n",
    "        value *= 3\n",
    "    elif history.get_cause(2, delay=3):\n",
    "        value *= 1.2\n",
    "    return value\n",
    "\n",
    "print(dis.dis(effect_function))\n",
    "for stuff in dis.get_instructions(effect_function):\n",
    "    print (stuff)"
   ]
  },
  {
   "cell_type": "code",
   "execution_count": 24,
   "metadata": {},
   "outputs": [
    {
     "name": "stderr",
     "output_type": "stream",
     "text": [
      "/opt/anaconda/lib/python3.7/site-packages/networkx/drawing/nx_pylab.py:579: MatplotlibDeprecationWarning: \n",
      "The iterable function was deprecated in Matplotlib 3.1 and will be removed in 3.3. Use np.iterable instead.\n",
      "  if not cb.iterable(width):\n",
      "/opt/anaconda/lib/python3.7/site-packages/networkx/drawing/nx_pylab.py:676: MatplotlibDeprecationWarning: \n",
      "The iterable function was deprecated in Matplotlib 3.1 and will be removed in 3.3. Use np.iterable instead.\n",
      "  if cb.iterable(node_size):  # many node sizes\n"
     ]
    },
    {
     "data": {
      "image/png": "[encoded data removed]",
      "text/plain": [
       "<Figure size 432x288 with 1 Axes>"
      ]
     },
     "metadata": {},
     "output_type": "display_data"
    }
   ],
   "source": [
    "import networkx as nx\n",
    "import matplotlib.pyplot as plt\n",
    "\n",
    "G = nx.DiGraph()\n",
    "G.add_edges_from(\n",
    "    [('A', 'B'), ('A', 'C'), ('D', 'B'), ('E', 'C'), ('E', 'F'),\n",
    "     ('B', 'H'), ('B', 'G'), ('B', 'F'), ('C', 'G')])\n",
    "\n",
    "val_map = {'A': 1.0,\n",
    "           'D': 0.5714285714285714,\n",
    "           'H': 0.0}\n",
    "\n",
    "values = [val_map.get(node, 0.25) for node in G.nodes()]\n",
    "\n",
    "# Specify the edges you want here\n",
    "red_edges = [('A', 'C'), ('E', 'C')]\n",
    "edge_colours = ['black' if not edge in red_edges else 'red'\n",
    "                for edge in G.edges()]\n",
    "black_edges = [edge for edge in G.edges() if edge not in red_edges]\n",
    "\n",
    "# Need to create a layout when doing\n",
    "# separate calls to draw nodes and edges\n",
    "pos = nx.spring_layout(G)\n",
    "nx.draw_networkx_nodes(G, pos, cmap=plt.get_cmap('jet'), \n",
    "                       node_color = values, node_size = 500)\n",
    "nx.draw_networkx_labels(G, pos)\n",
    "nx.draw_networkx_edges(G, pos, edgelist=red_edges, edge_color='r', arrows=True)\n",
    "nx.draw_networkx_edges(G, pos, edgelist=black_edges, arrows=False)\n",
    "plt.show()"
   ]
  },
  {
   "cell_type": "code",
   "execution_count": 25,
   "metadata": {},
   "outputs": [
    {
     "name": "stderr",
     "output_type": "stream",
     "text": [
      "/opt/anaconda/lib/python3.7/site-packages/networkx/drawing/nx_pylab.py:585: MatplotlibDeprecationWarning: \n",
      "The iterable function was deprecated in Matplotlib 3.1 and will be removed in 3.3. Use np.iterable instead.\n",
      "  and cb.iterable(edge_color) \\\n"
     ]
    },
    {
     "data": {
      "image/png": "[encoded data removed]",
      "text/plain": [
       "<Figure size 432x288 with 1 Axes>"
      ]
     },
     "metadata": {},
     "output_type": "display_data"
    }
   ],
   "source": [
    "import networkx as nx\n",
    "import numpy as np\n",
    "import matplotlib.pyplot as plt\n",
    "import pylab\n",
    "\n",
    "G = nx.DiGraph()\n",
    "\n",
    "G.add_edges_from([('A', 'B'),('C','D'),('G','D')], weight=1)\n",
    "G.add_edges_from([('D','A'),('D','E'),('B','D'),('D','E')], weight=2)\n",
    "G.add_edges_from([('B','C'),('E','F')], weight=3)\n",
    "G.add_edges_from([('C','F')], weight=4)\n",
    "\n",
    "\n",
    "val_map = {'A': 1.0,\n",
    "                   'D': 0.5714285714285714,\n",
    "                              'H': 0.0}\n",
    "\n",
    "values = [val_map.get(node, 0.45) for node in G.nodes()]\n",
    "edge_labels=dict([((u,v,),d['weight'])\n",
    "                 for u,v,d in G.edges(data=True)])\n",
    "red_edges = [('C','D'),('D','A')]\n",
    "edge_colors = ['black' if not edge in red_edges else 'red' for edge in G.edges()]\n",
    "\n",
    "pos=nx.spring_layout(G)\n",
    "nx.draw_networkx_edge_labels(G,pos,edge_labels=edge_labels)\n",
    "nx.draw(G,pos, node_color = values, node_size=1500,edge_color=edge_colors,edge_cmap=plt.cm.Reds)\n",
    "pylab.show()"
   ]
  },
  {
   "cell_type": "code",
   "execution_count": 89,
   "metadata": {},
   "outputs": [
    {
     "data": {
      "image/png": "[encoded data removed]",
      "text/plain": [
       "<Figure size 432x288 with 1 Axes>"
      ]
     },
     "metadata": {},
     "output_type": "display_data"
    }
   ],
   "source": [
    "import networkx as nx\n",
    "import numpy as np\n",
    "import matplotlib.pyplot as plt\n",
    "import pylab\n",
    "\n",
    "G = nx.DiGraph()\n",
    "\n",
    "G.add_edges_from([('A', 'B')], weight=0)\n",
    "G.add_edges_from([('C', 'A')], weight=0)\n",
    "colors = ['#F8F8F8', '#F8F8F8', '#FFFFFF']\n",
    "borders = ['#DEDEDE', '#DEDEDE', '#EDEDED']\n",
    "nx.draw_networkx(G, node_size=2000, node_color=colors, edgecolors=borders)\n",
    "plt.margins(0.25)\n",
    "plt.show()\n"
   ]
  },
  {
   "cell_type": "code",
   "execution_count": 27,
   "metadata": {},
   "outputs": [
    {
     "data": {
      "image/png": "[encoded data removed]",
      "text/plain": [
       "<Figure size 432x288 with 1 Axes>"
      ]
     },
     "metadata": {},
     "output_type": "display_data"
    }
   ],
   "source": [
    "MG = nx.MultiGraph()\n",
    "MG.add_weighted_edges_from([(1, 2, 0.5), (1, 2, 0.75), (2, 3, 0.5)])\n",
    "dict(MG.degree(weight='weight'))\n",
    "\n",
    "GG = nx.Graph()\n",
    "for n, nbrs in MG.adjacency():\n",
    "   for nbr, edict in nbrs.items():\n",
    "       minvalue = min([d['weight'] for d in edict.values()])\n",
    "       GG.add_edge(n, nbr, weight = minvalue)\n",
    "\n",
    "nx.shortest_path(GG, 1, 3)\n",
    "nx.draw_networkx(GG, node_size=2000)"
   ]
  }
 ],
 "metadata": {
  "kernelspec": {
   "display_name": "Python 3",
   "language": "python",
   "name": "python3"
  },
  "language_info": {
   "codemirror_mode": {
    "name": "ipython",
    "version": 3
   },
   "file_extension": ".py",
   "mimetype": "text/x-python",
   "name": "python",
   "nbconvert_exporter": "python",
   "pygments_lexer": "ipython3",
   "version": "3.7.4"
  },
  "pycharm": {
   "stem_cell": {
    "cell_type": "raw",
    "metadata": {
     "collapsed": false
    },
    "source": []
   }
  }
 },
 "nbformat": 4,
 "nbformat_minor": 2
}
